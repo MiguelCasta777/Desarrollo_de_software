{
  "nbformat": 4,
  "nbformat_minor": 0,
  "metadata": {
    "colab": {
      "provenance": [],
      "include_colab_link": true
    },
    "kernelspec": {
      "name": "python3",
      "display_name": "Python 3"
    },
    "language_info": {
      "name": "python"
    }
  },
  "cells": [
    {
      "cell_type": "markdown",
      "metadata": {
        "id": "view-in-github",
        "colab_type": "text"
      },
      "source": [
        "<a href=\"https://colab.research.google.com/github/MiguelCasta777/Desarrollo_de_software/blob/main/Taller_2_Condicionales_IF_Solucion_en_Colab.ipynb\" target=\"_parent\"><img src=\"https://colab.research.google.com/assets/colab-badge.svg\" alt=\"Open In Colab\"/></a>"
      ]
    },
    {
      "cell_type": "code",
      "execution_count": null,
      "metadata": {
        "colab": {
          "base_uri": "https://localhost:8080/"
        },
        "id": "8055XCH5Slhr",
        "outputId": "2c72232f-ac79-4117-a03a-f00e0ab7d925"
      },
      "outputs": [
        {
          "output_type": "stream",
          "name": "stdout",
          "text": [
            "Este programam verifica si p es un valor igual a cualquiera de los siguientes 118, 12 ó k \n",
            "Digita un valor entero para k 15\n",
            "Digita p 100\n",
            "El resultado es: False\n"
          ]
        }
      ],
      "source": [
        "# Punto 1 - El valor del perímetro p es uno de los siguientes: 118, 12 ó k.\n",
        "print(\"Este programam verifica si p es un valor igual a cualquiera de los siguientes 118, 12 ó k \")\n",
        "k = int(input(\"Digita un valor entero para k \"))\n",
        "p = int(input(\"Digita p \"))\n",
        "\n",
        "resultado = p == 118 or p == 12 or p == k\n",
        "\n",
        "print(f\"El resultado es: {resultado}\")"
      ]
    },
    {
      "cell_type": "code",
      "source": [
        "# Punto 2 - La edad del estudiante, e, pertenece a los dos siguientes intervalos: (11,48), (56, 70).\n",
        "# Dar un ejemplo de un valor de e que cumpla. \n",
        "print(\"Este programa verifica que la edad del estudiante pertenece a los uno de los dos siguientes intervalos: (11,48), (56, 70)\")\n",
        "e = int(input(\"Digita tu edad \"))\n",
        "resultado_punto_2 = (e > 11 and e < 48) or (e > 56 and e < 70)\n",
        "\n",
        "print(f\"El resultado es: {resultado_punto_2}\")"
      ],
      "metadata": {
        "id": "hrX1VwfeT2gw"
      },
      "execution_count": null,
      "outputs": []
    },
    {
      "cell_type": "code",
      "source": [
        "# Punto 3 - La edad del estudiante, e, pertenece a los dos siguientes intervalos: [a, m], [w, f]. \n",
        "\n",
        "print(\"Este programa verifica que la edad del estudiante pertenece a los uno de los dos siguientes intervalos: [a, m], [w, f]\")\n",
        "a = int(input(\"Digita el limite inicial del primer intervalo \"))\n",
        "m = int(input(\"Digita el limite final del primer intervalo \"))\n",
        "w = int(input(\"Digita el limite inicial del segundo intervalo \"))\n",
        "f = int(input(\"Digita el limite final del segundo intervalo \"))\n",
        "\n",
        "e = int(input(\"Digita tu edad \"))\n",
        "resultado_punto_3 = (e >= a and e <= m) or (e >= w and e <= f)\n",
        "\n",
        "print(f\"El resultado es: {resultado_punto_3}\")"
      ],
      "metadata": {
        "id": "od7mk8nWVS61"
      },
      "execution_count": null,
      "outputs": []
    },
    {
      "cell_type": "code",
      "source": [
        "# Punto 4 - Un número real r pertenece a la unión pero no a la intersección de dos conjuntos formados por los elementos\n",
        "# que conforman los intervalos [a, b) y (c, d], respectivamente. Obsérvese que se debe verificar que r pertenezca \n",
        "# a uno de los dos (unión) pero no a los dos intervalos (intersección), y que por tanto hay dos posibilidades. \n",
        "# Por eso, con las primeras dos condiciones se verifica, respectivamente, que r pertenezca a [a, b) pero no a (c, d].\n",
        "# Con las otras dos condiciones se verifica que r no pertenezca a [a, b) y sí a (c, d]. \n",
        "\n",
        "r = float(input(\"Digita r \"))\n",
        "a = int(input(\"Digita el limite inicial del primer intervalo \"))\n",
        "b = int(input(\"Digita el limite final del primer intervalo \"))\n",
        "c = int(input(\"Digita el limite inicial del segundo intervalo \"))\n",
        "d = int(input(\"Digita el limite final del segundo intervalo \"))\n",
        "\n",
        "resultado_punto_4 = ((r >= a and r < b ) and (r <= c or r > d)) or ((r < a or r >= b) and (r > c and r <= d))\n",
        "\n",
        "print(f\"El resultado es: {resultado_punto_4}\")"
      ],
      "metadata": {
        "id": "SAXzdNszWRud"
      },
      "execution_count": null,
      "outputs": []
    },
    {
      "cell_type": "code",
      "source": [
        "# Punto 5 -Realizar un algoritmo que dados dos operandos y un operador permita realizar \n",
        "# la operación seleccionada entre los operandos: 1 suma, 2 resta, 3 multiplicación, 4 división. Y mostrar el resultado.  \n",
        "\n",
        "print(\"\"\"Este programa funciona como calculadora sencilla:\n",
        "Digita 1 para suma\n",
        "Digita 2 para resta\n",
        "Digita 3 para multiplicación\n",
        "Digita 4 para división\n",
        "\"\"\")\n",
        "\n",
        "#Inicializacion de variables en 0\n",
        "suma = 0\n",
        "resta = 0\n",
        "multiplicacion = 0\n",
        "division = 0\n",
        "\n",
        "operando_1 = float(input(\"Digita el operando 1 \"))\n",
        "operando_2 = float(input(\"Digita el operando 2 \"))\n",
        "operacion = int(input(\"Digita la operación a realizar \"))\n",
        "\n",
        "if operacion == 1:\n",
        "    suma = operando_1 + operando_2\n",
        "    print(f\"La suma de {operando_1} + {operando_2} = {suma} \")\n",
        "elif operacion == 2:\n",
        "    resta = operando_1 - operando_2\n",
        "    print(f\"La resta de {operando_1} - {operando_2} = {resta} \")\n",
        "elif operacion == 3:\n",
        "    multiplicacion = operando_1 * operando_2\n",
        "    print(f\"La multiplicacion de {operando_1} * {operando_2} = {multiplicacion} \")\n",
        "elif operacion == 4:\n",
        "    division = operando_1 / operando_2\n",
        "    print(f\"La division de {operando_1} / {operando_2} = {division} \")\n",
        "else:\n",
        "    print(\"La operación seleccionada NO es valida, intente de nuevo\")\n",
        "\n",
        "print(suma)"
      ],
      "metadata": {
        "id": "hqmAaksDYsB3"
      },
      "execution_count": null,
      "outputs": []
    },
    {
      "cell_type": "code",
      "source": [
        "# Punto 6 - Determinar la cantidad de dinero que recibirá un trabajador por concepto de las horas extras trabajadas en una empresa,\n",
        "# sabiendo que cuando las horas de trabajo exceden de 40, el resto se consideran horas extras y que éstas se pagan al doble de una\n",
        "# hora normal cuando no exceden de 8; si las horas extras exceden de 8 se pagan las primeras 8 al doble de lo que se paga por una hora normal\n",
        "# y el resto al triple. \n",
        "\n",
        "print(\"Este programa determinar la cantidad de dinero que recibirá un trabajador por concepto de las horas extras trabajadas en una empresa\")\n",
        "\n",
        "horas_mes = float(input(\"Digita la horas trabajadas en el mes \"))\n",
        "valor_hora = float(input(\"Digita el valor de la hora \"))\n",
        "horas_dobles = 0\n",
        "horas_triples = 0\n",
        "horas_extras = 0\n",
        "total_sueldo = 0\n",
        "\n",
        "if horas_mes > 40:\n",
        "    horas_extras = horas_mes - 40\n",
        "    if horas_extras > 8:\n",
        "        horas_dobles = 8\n",
        "        horas_triples = horas_extras - 8\n",
        "        total_sueldo = (40 * valor_hora) + (horas_dobles*2*valor_hora) + (horas_triples*3*valor_hora)\n",
        "    else:\n",
        "        horas_dobles = horas_extras\n",
        "        horas_triples = 0\n",
        "        total_sueldo = (40* valor_hora) + (horas_dobles *2 * valor_hora)\n",
        "else:\n",
        "    total_sueldo = horas_mes * valor_hora\n",
        "\n",
        "print(f\"El sueldo final es $ {total_sueldo}\")\n",
        "\n"
      ],
      "metadata": {
        "id": "6HNTku_Xei3y"
      },
      "execution_count": null,
      "outputs": []
    },
    {
      "cell_type": "code",
      "source": [
        "# Punto 7 - Dados como datos la categoría y el sueldo de un trabajador, calcule el aumento correspondiente teniendo en cuenta la siguiente tabla.\n",
        "# Imprimir la categoría del trabajador y el nuevo sueldo. \n",
        "# Categoria 1 - 15%\n",
        "# Categoria 2 - 10%\n",
        "# Categoria 3 -  8%\n",
        "# Categoria 4 -  7%\n",
        "\n",
        "print(\"Este programa calcula el aumento de sueldo según la categoria \")\n",
        "\n",
        "categoria = int(input(\"Digita la categoria actual \"))\n",
        "sueldo_actual = float(input(\"Digita el sueldo actual \"))\n",
        "sueldo_nuevo = 0\n",
        "\n",
        "if categoria == 1:\n",
        "    sueldo_nuevo = sueldo_actual * 1.15\n",
        "    print(f\"Elsueldo nuevo es {sueldo_nuevo}\")\n",
        "elif categoria == 2:\n",
        "    sueldo_nuevo = sueldo_actual * 1.10\n",
        "    print(f\"Elsueldo nuevo es {sueldo_nuevo}\")\n",
        "elif categoria == 3:\n",
        "    sueldo_nuevo = sueldo_actual * 1.08\n",
        "    print(f\"Elsueldo nuevo es {sueldo_nuevo}\")\n",
        "elif categoria == 4:\n",
        "    sueldo_nuevo = sueldo_actual * 1.07\n",
        "    print(f\"Elsueldo nuevo es {sueldo_nuevo}\")\n",
        "else: \n",
        "    print(\"Ha selecionado una categoria invalida, intenta nuevamente \")"
      ],
      "metadata": {
        "id": "Jq6FIigThWtd"
      },
      "execution_count": null,
      "outputs": []
    },
    {
      "cell_type": "code",
      "source": [
        "# Punto 8 - Hacer el algoritmo que indique si un número ingresado por el teclado es positivo. \n",
        "\n",
        "numero_ingresado = float(input(\"Digita un numero \"))\n",
        "\n",
        "if numero_ingresado >= 0:\n",
        "    print(f\"El numero {numero_ingresado} es positivo \")\n",
        "else:\n",
        "    print(f\"El numero {numero_ingresado} NO es positivo \")\n",
        "\n"
      ],
      "metadata": {
        "colab": {
          "base_uri": "https://localhost:8080/"
        },
        "id": "eeYWT441jHq5",
        "outputId": "f4ccb669-df08-476c-81ec-dff6ba32cd34"
      },
      "execution_count": null,
      "outputs": [
        {
          "output_type": "stream",
          "name": "stdout",
          "text": [
            "Digita un numero 0\n",
            "El numero 0.0 es positivo \n"
          ]
        }
      ]
    },
    {
      "cell_type": "code",
      "source": [
        "# Punto 9 - Hacer el algoritmo que indique si un número ingresado por el teclado es par o impar.  \n",
        "\n",
        "print(\"Este programa verifica si un numero dado es PAR o IMPAR \")\n",
        "\n",
        "numero_dado = int(input(\"Digita un numero \"))\n",
        "\n",
        "if numero_dado % 2 == 0:\n",
        "    print(\"es par\")\n",
        "else:\n",
        "    print(\"es impar\")"
      ],
      "metadata": {
        "id": "hT-TBH4ljr0I"
      },
      "execution_count": null,
      "outputs": []
    },
    {
      "cell_type": "code",
      "source": [
        "# Punto 10 - Con base en la edad proporcionada, determine y escriba si la persona es mayor o menor de edad. \n",
        "\n",
        "print(\"Este programa verifica si eres MAYOR o MENOR  de edad \")\n",
        "\n",
        "edad = int(input(\"Digita tu edad \"))\n",
        "\n",
        "if edad >= 18:\n",
        "    print(\"Eres mayor de edad\")\n",
        "elif edad < 18 and edad > 0:\n",
        "    print(\"Eres menor de edad\")\n",
        "else:\n",
        "    print(\"Digita una edad mayor a 0\")"
      ],
      "metadata": {
        "id": "0_2mOF2Ykd2l"
      },
      "execution_count": null,
      "outputs": []
    },
    {
      "cell_type": "code",
      "source": [
        "# Punto 11 - Construya un algoritmo que determine y escriba dado un número entero positivo, si este es menor, mayor o igual que cero. \n",
        "print(\"Este programa verifica si un numero es menor, mayor o igual que cero\")\n",
        "numero_usuario = int(input(\"Digita un numero entero positivo \"))\n",
        "\n",
        "if numero_usuario >= 0:\n",
        "    print(f\"El numero {numero_usuario} es mayor o igual a 0 \")\n",
        "else:\n",
        "    print(f\"El numero {numero_usuario} es menor a 0 \")\n"
      ],
      "metadata": {
        "colab": {
          "base_uri": "https://localhost:8080/"
        },
        "id": "EzPWuaVYlVdW",
        "outputId": "04e5fd41-3892-458e-cc68-59d1af32ac35"
      },
      "execution_count": null,
      "outputs": [
        {
          "output_type": "stream",
          "name": "stdout",
          "text": [
            "Este programa verifica si un numero es menor, mayor o igual que cero\n",
            "Digita un numero entero positivo -50\n",
            "El numero -50 es menor a 0 \n"
          ]
        }
      ]
    }
  ]
}